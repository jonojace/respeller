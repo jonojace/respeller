{
 "cells": [
  {
   "cell_type": "code",
   "execution_count": null,
   "id": "bb49e890-3ed5-4194-8f92-c5223ebb732f",
   "metadata": {},
   "outputs": [],
   "source": [
    "# load fastpitch model\n",
    "\n"
   ]
  }
 ],
 "metadata": {
  "kernelspec": {
   "display_name": "Python 3 (ipykernel)",
   "language": "python",
   "name": "python3"
  },
  "language_info": {
   "codemirror_mode": {
    "name": "ipython",
    "version": 3
   },
   "file_extension": ".py",
   "mimetype": "text/x-python",
   "name": "python",
   "nbconvert_exporter": "python",
   "pygments_lexer": "ipython3",
   "version": "3.8.13"
  }
 },
 "nbformat": 4,
 "nbformat_minor": 5
}
