{
 "cells": [
  {
   "cell_type": "code",
   "execution_count": 2,
   "id": "52a57c43-701b-498f-b397-1f8a3ab96bd1",
   "metadata": {},
   "outputs": [],
   "source": [
    "import torch"
   ]
  },
  {
   "cell_type": "code",
   "execution_count": 3,
   "id": "3ea9ef19-7aa8-4e6c-9658-fb75b87072c5",
   "metadata": {},
   "outputs": [
    {
     "data": {
      "text/plain": [
       "tensor([0, 1, 2, 3, 4, 5, 6, 7, 8])"
      ]
     },
     "execution_count": 3,
     "metadata": {},
     "output_type": "execute_result"
    }
   ],
   "source": [
    "bsz = 3\n",
    "max_len = 9\n",
    "lens = torch.tensor([1,4,9]).unsqueeze(1) \n",
    "\n",
    "m = torch.arange(max_len)\n",
    "m"
   ]
  },
  {
   "cell_type": "code",
   "execution_count": 4,
   "id": "c4b2ab97-18e2-491c-b6dd-d55b2c3e2b5c",
   "metadata": {},
   "outputs": [
    {
     "data": {
      "text/plain": [
       "torch.Size([3, 1])"
      ]
     },
     "execution_count": 4,
     "metadata": {},
     "output_type": "execute_result"
    }
   ],
   "source": [
    "lens.size()"
   ]
  },
  {
   "cell_type": "code",
   "execution_count": 5,
   "id": "c1260589-bef2-4a75-af06-74ba01270a8f",
   "metadata": {},
   "outputs": [
    {
     "data": {
      "text/plain": [
       "tensor([[0, 1, 2, 3, 4, 5, 6, 7, 8],\n",
       "        [0, 1, 2, 3, 4, 5, 6, 7, 8],\n",
       "        [0, 1, 2, 3, 4, 5, 6, 7, 8]])"
      ]
     },
     "execution_count": 5,
     "metadata": {},
     "output_type": "execute_result"
    }
   ],
   "source": [
    "m.repeat(bsz, 1)"
   ]
  },
  {
   "cell_type": "code",
   "execution_count": 6,
   "id": "44730fee-4eec-42b5-87a8-f65ff32a85a4",
   "metadata": {},
   "outputs": [
    {
     "data": {
      "text/plain": [
       "tensor([[0, 1, 2, 3, 4, 5, 6, 7, 8],\n",
       "        [0, 1, 2, 3, 4, 5, 6, 7, 8],\n",
       "        [0, 1, 2, 3, 4, 5, 6, 7, 8]])"
      ]
     },
     "execution_count": 6,
     "metadata": {},
     "output_type": "execute_result"
    }
   ],
   "source": [
    "m = m.expand(bsz, max_len)\n",
    "m"
   ]
  },
  {
   "cell_type": "code",
   "execution_count": 7,
   "id": "8e435fd3-79b7-44f1-806b-5cd2c725c558",
   "metadata": {},
   "outputs": [
    {
     "data": {
      "text/plain": [
       "tensor([[False,  True,  True,  True,  True,  True,  True,  True,  True],\n",
       "        [False, False, False, False,  True,  True,  True,  True,  True],\n",
       "        [False, False, False, False, False, False, False, False, False]])"
      ]
     },
     "execution_count": 7,
     "metadata": {},
     "output_type": "execute_result"
    }
   ],
   "source": [
    "~(m < lens) # tilde"
   ]
  },
  {
   "cell_type": "code",
   "execution_count": null,
   "id": "5edca457-b6bf-4fb5-a57a-28e1c31a7ec8",
   "metadata": {},
   "outputs": [],
   "source": []
  },
  {
   "cell_type": "code",
   "execution_count": 12,
   "id": "db45cdd4-f518-469c-800e-8be66e343dbb",
   "metadata": {},
   "outputs": [],
   "source": [
    "def get_src_key_padding_mask(bsz, max_len, lens):\n",
    "    \"\"\"return a Boolean mask for a list or tensor of sequence lengths\n",
    "    True for values in tensor greater than sequence length\n",
    "\n",
    "    bsz (int)\n",
    "    max_len (int): max seq len of item in batch\n",
    "    lens [bsz]: list or tensor of lengths\n",
    "    \"\"\"\n",
    "    if type(lens) == list:\n",
    "        lens = torch.tensor(lens)\n",
    "    assert lens.dim() == 1\n",
    "    \n",
    "    lens = lens.unsqueeze(1) # [bsz] -> [bsz, seq_len]\n",
    "    m = torch.arange(max_len)\n",
    "    m = m.expand(bsz, max_len) # repeat along batch dimension\n",
    "    m = (m < lens)\n",
    "    return ~m # tilde inverts a bool tensor"
   ]
  },
  {
   "cell_type": "code",
   "execution_count": 13,
   "id": "1bed1131-e163-41c0-8b7a-dcd1492e4721",
   "metadata": {},
   "outputs": [
    {
     "data": {
      "text/plain": [
       "tensor([[False,  True,  True,  True,  True,  True,  True,  True,  True],\n",
       "        [False, False, False, False,  True,  True,  True,  True,  True],\n",
       "        [False, False, False, False, False, False, False, False, False]])"
      ]
     },
     "execution_count": 13,
     "metadata": {},
     "output_type": "execute_result"
    }
   ],
   "source": [
    "get_src_key_padding_mask(3, 9, torch.tensor([1,4,9]))"
   ]
  },
  {
   "cell_type": "code",
   "execution_count": 14,
   "id": "d9b0b5f1-bf03-468b-9e47-9aa9343b623d",
   "metadata": {},
   "outputs": [
    {
     "data": {
      "text/plain": [
       "tensor([[False,  True,  True,  True,  True,  True,  True,  True,  True],\n",
       "        [False, False, False, False,  True,  True,  True,  True,  True],\n",
       "        [False, False, False, False, False, False, False, False, False]])"
      ]
     },
     "execution_count": 14,
     "metadata": {},
     "output_type": "execute_result"
    }
   ],
   "source": [
    "get_src_key_padding_mask(3, 9, [1,4,9])"
   ]
  },
  {
   "cell_type": "markdown",
   "id": "873d353a-b6b1-46b8-99c9-a019ae71e032",
   "metadata": {},
   "source": [
    "# desired text lens"
   ]
  },
  {
   "cell_type": "code",
   "execution_count": 8,
   "id": "88f368b9-310b-4a70-b9a7-10811d1afd58",
   "metadata": {},
   "outputs": [],
   "source": [
    "import torch"
   ]
  },
  {
   "cell_type": "code",
   "execution_count": 35,
   "id": "31712efd-0f87-48d7-b0a4-1aff1b29d6eb",
   "metadata": {},
   "outputs": [],
   "source": [
    "len_modifier = 2\n",
    "lens = torch.tensor([1,4,7,8,9,10])\n",
    "max_len = torch.tensor(10)\n",
    "# max_len = torch.tensor(10).expand(lens.size(0))"
   ]
  },
  {
   "cell_type": "code",
   "execution_count": 36,
   "id": "a4f97dd8-9352-4b3c-b617-af9e716908d1",
   "metadata": {},
   "outputs": [
    {
     "data": {
      "text/plain": [
       "tensor([ 1,  4,  7,  8,  9, 10])"
      ]
     },
     "execution_count": 36,
     "metadata": {},
     "output_type": "execute_result"
    }
   ],
   "source": [
    "lens"
   ]
  },
  {
   "cell_type": "code",
   "execution_count": 37,
   "id": "dc628ff0-ecb5-43b0-9e1f-25a0c52945b6",
   "metadata": {},
   "outputs": [],
   "source": [
    "lens2 = torch.min(lens + len_modifier, max_len)"
   ]
  },
  {
   "cell_type": "code",
   "execution_count": 38,
   "id": "ad7490b6-76a1-47d3-96da-ccad0465852f",
   "metadata": {},
   "outputs": [
    {
     "data": {
      "text/plain": [
       "tensor([ 3,  6,  9, 10, 10, 10])"
      ]
     },
     "execution_count": 38,
     "metadata": {},
     "output_type": "execute_result"
    }
   ],
   "source": [
    "lens2"
   ]
  },
  {
   "cell_type": "code",
   "execution_count": 39,
   "id": "a6f4767f-bba9-48ea-8fd4-1e20a50e7182",
   "metadata": {},
   "outputs": [
    {
     "data": {
      "text/plain": [
       "tensor(10)"
      ]
     },
     "execution_count": 39,
     "metadata": {},
     "output_type": "execute_result"
    }
   ],
   "source": [
    "max_len"
   ]
  },
  {
   "cell_type": "code",
   "execution_count": 42,
   "id": "495a7034-7a5e-44b0-9ab9-ab040f7321d3",
   "metadata": {},
   "outputs": [
    {
     "data": {
      "text/plain": [
       "tensor([1, 2, 5, 6, 7, 8])"
      ]
     },
     "execution_count": 42,
     "metadata": {},
     "output_type": "execute_result"
    }
   ],
   "source": [
    "len_modifier = -2\n",
    "lens = torch.tensor([1,4,7,8,9,10])\n",
    "min_len = torch.tensor(1)\n",
    "lens2 = torch.max(lens + len_modifier, min_len)\n",
    "lens2"
   ]
  },
  {
   "cell_type": "code",
   "execution_count": 44,
   "id": "7d28d500-2182-4c64-9cc7-8cdb953aa246",
   "metadata": {},
   "outputs": [],
   "source": [
    "def get_desired_text_lens(lens, len_modifier):\n",
    "    if len_modifier < 0:\n",
    "        min_len = torch.tensor(1)\n",
    "        return torch.max(lens + len_modifier, min_len)\n",
    "    elif len_modifier > 0:\n",
    "        max_len = torch.max(lens)\n",
    "        return torch.min(lens + len_modifier, max_len)\n",
    "    else:\n",
    "        return lens"
   ]
  },
  {
   "cell_type": "code",
   "execution_count": 45,
   "id": "e5887af4-1602-48b8-a485-bfc2072f67c7",
   "metadata": {},
   "outputs": [
    {
     "data": {
      "text/plain": [
       "tensor([ 3,  6,  9, 10, 10, 10])"
      ]
     },
     "execution_count": 45,
     "metadata": {},
     "output_type": "execute_result"
    }
   ],
   "source": [
    "get_desired_text_lens(torch.tensor([1,4,7,8,9,10]), 2)"
   ]
  },
  {
   "cell_type": "code",
   "execution_count": 46,
   "id": "8c43e31a-86be-412b-8722-833564b457fc",
   "metadata": {},
   "outputs": [
    {
     "data": {
      "text/plain": [
       "tensor([1, 2, 5, 6, 7, 8])"
      ]
     },
     "execution_count": 46,
     "metadata": {},
     "output_type": "execute_result"
    }
   ],
   "source": [
    "get_desired_text_lens(torch.tensor([1,4,7,8,9,10]), -2)"
   ]
  },
  {
   "cell_type": "code",
   "execution_count": 47,
   "id": "50589152-4e54-4f20-acf2-fba714a39abf",
   "metadata": {},
   "outputs": [
    {
     "data": {
      "text/plain": [
       "tensor([ 1,  4,  7,  8,  9, 10])"
      ]
     },
     "execution_count": 47,
     "metadata": {},
     "output_type": "execute_result"
    }
   ],
   "source": [
    "get_desired_text_lens(torch.tensor([1,4,7,8,9,10]), 0)"
   ]
  },
  {
   "cell_type": "code",
   "execution_count": null,
   "id": "ab8286b4-de91-48c1-bb5b-c33a87c44f35",
   "metadata": {},
   "outputs": [],
   "source": []
  }
 ],
 "metadata": {
  "kernelspec": {
   "display_name": "Python 3 (ipykernel)",
   "language": "python",
   "name": "python3"
  },
  "language_info": {
   "codemirror_mode": {
    "name": "ipython",
    "version": 3
   },
   "file_extension": ".py",
   "mimetype": "text/x-python",
   "name": "python",
   "nbconvert_exporter": "python",
   "pygments_lexer": "ipython3",
   "version": "3.8.13"
  }
 },
 "nbformat": 4,
 "nbformat_minor": 5
}
